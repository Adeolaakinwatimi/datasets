{
  "nbformat": 4,
  "nbformat_minor": 0,
  "metadata": {
    "colab": {
      "provenance": [],
      "authorship_tag": "ABX9TyPlQ6xKgANI+k1WwHKdY1pz",
      "include_colab_link": true
    },
    "kernelspec": {
      "name": "python3",
      "display_name": "Python 3"
    },
    "language_info": {
      "name": "python"
    }
  },
  "cells": [
    {
      "cell_type": "markdown",
      "metadata": {
        "id": "view-in-github",
        "colab_type": "text"
      },
      "source": [
        "<a href=\"https://colab.research.google.com/github/Adeolaakinwatimi/datasets/blob/main/Untitled0.ipynb\" target=\"_parent\"><img src=\"https://colab.research.google.com/assets/colab-badge.svg\" alt=\"Open In Colab\"/></a>"
      ]
    },
    {
      "cell_type": "markdown",
      "source": [],
      "metadata": {
        "id": "7zfhtZujHdCZ"
      }
    },
    {
      "cell_type": "markdown",
      "source": [
        "1. Import Data and Python Packages"
      ],
      "metadata": {
        "id": "FQOmeXpGHsOu"
      }
    },
    {
      "cell_type": "code",
      "source": [
        "#1. Import Data and Python Packages"
      ],
      "metadata": {
        "id": "eEGcEVXhJawd"
      },
      "execution_count": null,
      "outputs": []
    },
    {
      "cell_type": "markdown",
      "source": [],
      "metadata": {
        "id": "DAJzkouzJXZ7"
      }
    },
    {
      "cell_type": "code",
      "execution_count": null,
      "metadata": {
        "id": "myWknwmRHXWt"
      },
      "outputs": [],
      "source": [
        "import pandas as pd\n",
        "import numpy as np\n",
        "import pydotplus\n",
        "import seaborn as sns\n",
        "import matplotlin.pyplot as plt\n",
        "from sklearn import tree, metrics\n",
        "from sklearn.model_selection import train_test_split\n",
        "from io import StringIO\n",
        "from Ipython.display import Image"
      ]
    }
  ]
}